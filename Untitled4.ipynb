{
 "cells": [
  {
   "cell_type": "code",
   "execution_count": 7,
   "id": "724fb355",
   "metadata": {},
   "outputs": [
    {
     "name": "stdout",
     "output_type": "stream",
     "text": [
      "p\n",
      "y\n",
      "t\n",
      "h\n",
      "o\n",
      "n\n",
      " \n",
      "i\n",
      "s\n",
      " \n",
      "v\n",
      "e\n",
      "r\n",
      "y\n",
      " \n",
      "e\n",
      "a\n",
      "s\n",
      "y\n",
      "selesai\n"
     ]
    }
   ],
   "source": [
    "kalimat = \"python is very easy\"\n",
    "for k in kalimat:\n",
    "    print(k)\n",
    "print(\"selesai\")"
   ]
  },
  {
   "cell_type": "code",
   "execution_count": 31,
   "id": "cc9aad6e",
   "metadata": {},
   "outputs": [
    {
     "name": "stdout",
     "output_type": "stream",
     "text": [
      "-4\n",
      "8\n",
      "-12\n",
      "16\n"
     ]
    }
   ],
   "source": [
    "tanda = 4\n",
    "for i in range(1,5):\n",
    "    tanda = tanda * -1\n",
    "    print(i * tanda)"
   ]
  },
  {
   "cell_type": "code",
   "execution_count": 37,
   "id": "c3fe67f5",
   "metadata": {},
   "outputs": [
    {
     "name": "stdout",
     "output_type": "stream",
     "text": [
      "1\n",
      "2\n",
      "3\n",
      "4\n",
      "5\n",
      "6\n",
      "7\n",
      "8\n",
      "9\n",
      "10\n"
     ]
    }
   ],
   "source": [
    "bilangan = 10\n",
    "for i in range(1,bilangan+1):\n",
    "    print(i)"
   ]
  },
  {
   "cell_type": "code",
   "execution_count": 43,
   "id": "b5414fc4",
   "metadata": {},
   "outputs": [
    {
     "name": "stdout",
     "output_type": "stream",
     "text": [
      "1\n",
      "2\n",
      "6\n",
      "24\n",
      "120\n"
     ]
    }
   ],
   "source": [
    "bilangan = 5\n",
    "hasil = 1\n",
    "for i in range(1, bilangan+1):\n",
    "    hasil = hasil * i\n",
    "    print(hasil)"
   ]
  },
  {
   "cell_type": "code",
   "execution_count": 49,
   "id": "e307052b",
   "metadata": {},
   "outputs": [
    {
     "name": "stdout",
     "output_type": "stream",
     "text": [
      "24\n"
     ]
    }
   ],
   "source": [
    "bilangan = 4\n",
    "hasil = 1\n",
    "for i in range(1, bilangan +1):\n",
    "    hasil = hasil * i\n",
    "print(hasil)"
   ]
  },
  {
   "cell_type": "code",
   "execution_count": 54,
   "id": "399c1e88",
   "metadata": {},
   "outputs": [
    {
     "name": "stdout",
     "output_type": "stream",
     "text": [
      "1\n",
      "2\n",
      "3\n"
     ]
    }
   ],
   "source": [
    "bilangan = 4\n",
    "pangkat = 3\n",
    "hasil = 1\n",
    "for i in range(1,pangkat +1):\n",
    "    \n",
    "    print(i)"
   ]
  },
  {
   "cell_type": "code",
   "execution_count": 57,
   "id": "cbf05edd",
   "metadata": {},
   "outputs": [
    {
     "name": "stdout",
     "output_type": "stream",
     "text": [
      "3 pangkat 3 = 27\n"
     ]
    }
   ],
   "source": [
    "bilangan = 3\n",
    "pangkat = 3\n",
    "hasil = 1\n",
    "for i in range(1,pangkat +1):\n",
    "    hasil = hasil * bilangan\n",
    "print(f'{bilangan} pangkat {pangkat} = {hasil}')"
   ]
  },
  {
   "cell_type": "code",
   "execution_count": 59,
   "id": "03f6a3e9",
   "metadata": {},
   "outputs": [
    {
     "name": "stdout",
     "output_type": "stream",
     "text": [
      "2 pangkat 3 = 8\n"
     ]
    }
   ],
   "source": [
    "bilangan = 2\n",
    "pangkat = 3\n",
    "hasil = 1\n",
    "for i in range(1,pangkat +1):\n",
    "    hasil = hasil * bilangan\n",
    "print(f'{bilangan} pangkat {pangkat} = {hasil}')"
   ]
  },
  {
   "cell_type": "code",
   "execution_count": 69,
   "id": "b38595ed",
   "metadata": {},
   "outputs": [
    {
     "name": "stdout",
     "output_type": "stream",
     "text": [
      "4 bukan prima\n"
     ]
    }
   ],
   "source": [
    "#bilangan prima adalah bilangan yang dapat di ubah dengan bilangan itu sendiri dan 1\n",
    "faktor = 0\n",
    "bilangan = 4\n",
    "for i in range(1, bilangan +1):\n",
    "    if bilangan % i == 0:\n",
    "        faktor += 1\n",
    "if faktor == 2:\n",
    "    print(f'{bilangan} adalah bilangan prima')\n",
    "else:\n",
    "    print(f'{bilangan} bukan prima')\n"
   ]
  },
  {
   "cell_type": "code",
   "execution_count": 71,
   "id": "0d6325a8",
   "metadata": {},
   "outputs": [
    {
     "name": "stdout",
     "output_type": "stream",
     "text": [
      "i=1 j=1\n",
      "i=1 j=2\n",
      "i=1 j=3\n",
      "i=2 j=1\n",
      "i=2 j=2\n",
      "i=2 j=3\n",
      "i=3 j=1\n",
      "i=3 j=2\n",
      "i=3 j=3\n"
     ]
    }
   ],
   "source": [
    "for i in range(1,4):\n",
    "    for j in range(1,4):\n",
    "        print(f'i={i} j={j}')"
   ]
  },
  {
   "cell_type": "code",
   "execution_count": 73,
   "id": "008623cd",
   "metadata": {},
   "outputs": [
    {
     "name": "stdout",
     "output_type": "stream",
     "text": [
      "1,1 1,2 1,3 1,4 1,5 \n",
      "2,1 2,2 2,3 2,4 2,5 \n",
      "3,1 3,2 3,3 3,4 3,5 \n",
      "4,1 4,2 4,3 4,4 4,5 \n",
      "5,1 5,2 5,3 5,4 5,5 \n"
     ]
    }
   ],
   "source": [
    "for i in range(1,6):\n",
    "    for j in range(1,6):\n",
    "        print(f'{i},{j}',end=' ')\n",
    "    print()"
   ]
  },
  {
   "cell_type": "code",
   "execution_count": 74,
   "id": "c93d1e69",
   "metadata": {},
   "outputs": [
    {
     "name": "stdout",
     "output_type": "stream",
     "text": [
      "0 0 0 0 0 \n",
      "0 0 0 0 0 \n",
      "0 0 0 0 0 \n",
      "0 0 0 0 0 \n",
      "0 0 0 0 0 \n"
     ]
    }
   ],
   "source": [
    "for i in range(1,6):\n",
    "    for j in range(1,6):\n",
    "        print(f'0',end=' ')\n",
    "    print()"
   ]
  },
  {
   "cell_type": "code",
   "execution_count": 77,
   "id": "c11ef127",
   "metadata": {},
   "outputs": [
    {
     "name": "stdout",
     "output_type": "stream",
     "text": [
      "0 1 1 1 1 1 1 1 1 \n",
      "0 0 1 1 1 1 1 1 1 \n",
      "0 0 0 1 1 1 1 1 1 \n",
      "0 0 0 0 1 1 1 1 1 \n",
      "0 0 0 0 0 1 1 1 1 \n",
      "0 0 0 0 0 0 1 1 1 \n",
      "0 0 0 0 0 0 0 1 1 \n",
      "0 0 0 0 0 0 0 0 1 \n",
      "0 0 0 0 0 0 0 0 0 \n"
     ]
    }
   ],
   "source": [
    "for i in range(1,10):\n",
    "    for j in range(1,10):\n",
    "        if i < j:\n",
    "            print(f'1',end=' ')\n",
    "        else:\n",
    "            print(f'0',end=' ')\n",
    "    print()"
   ]
  },
  {
   "cell_type": "code",
   "execution_count": 80,
   "id": "95584635",
   "metadata": {},
   "outputs": [
    {
     "name": "stdout",
     "output_type": "stream",
     "text": [
      "0\n",
      "1\n",
      "2\n",
      "3\n",
      "4\n",
      "5\n",
      "6\n",
      "7\n",
      "8\n",
      "9\n"
     ]
    }
   ],
   "source": [
    "i = 0\n",
    "while i < 10:\n",
    "    print(i)\n",
    "    i += 1"
   ]
  },
  {
   "cell_type": "code",
   "execution_count": 88,
   "id": "c4583af6",
   "metadata": {},
   "outputs": [
    {
     "name": "stdout",
     "output_type": "stream",
     "text": [
      "1\n",
      "apakah mau mengulang program? yes/no yes\n",
      "2\n",
      "apakah mau mengulang program? yes/no no\n"
     ]
    }
   ],
   "source": [
    "jawab = 'yes'\n",
    "a = 0\n",
    "while jawab == 'yes':\n",
    "    a += 1\n",
    "    print(a)\n",
    "    jawab = input('apakah mau mengulang program? yes/no ')"
   ]
  },
  {
   "cell_type": "code",
   "execution_count": 89,
   "id": "1a7bd6d9",
   "metadata": {},
   "outputs": [
    {
     "name": "stdout",
     "output_type": "stream",
     "text": [
      "1\n",
      "apakah mau mengulang program? yes/no tidak\n",
      "2\n",
      "apakah mau mengulang program? yes/no yes\n",
      "3\n",
      "apakah mau mengulang program? yes/no no\n"
     ]
    }
   ],
   "source": [
    "jawab = 'yes'\n",
    "a = 0\n",
    "while jawab != 'no':\n",
    "    a += 1\n",
    "    print(a)\n",
    "    jawab = input('apakah mau mengulang program? yes/no ')"
   ]
  },
  {
   "cell_type": "code",
   "execution_count": null,
   "id": "5d134a49",
   "metadata": {},
   "outputs": [],
   "source": []
  }
 ],
 "metadata": {
  "kernelspec": {
   "display_name": "Python 3 (ipykernel)",
   "language": "python",
   "name": "python3"
  },
  "language_info": {
   "codemirror_mode": {
    "name": "ipython",
    "version": 3
   },
   "file_extension": ".py",
   "mimetype": "text/x-python",
   "name": "python",
   "nbconvert_exporter": "python",
   "pygments_lexer": "ipython3",
   "version": "3.9.12"
  }
 },
 "nbformat": 4,
 "nbformat_minor": 5
}
