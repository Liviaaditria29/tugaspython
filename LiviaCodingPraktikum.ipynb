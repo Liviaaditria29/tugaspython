{
 "cells": [
  {
   "cell_type": "code",
   "execution_count": 1,
   "id": "27592f38",
   "metadata": {},
   "outputs": [
    {
     "name": "stdout",
     "output_type": "stream",
     "text": [
      "total belanjaan kiki = 166000\n",
      "total diskonnya =  8300.0\n",
      "setelah di dikskon =  157700.0\n"
     ]
    }
   ],
   "source": [
    "hepitos = 15000\n",
    "silperkuin = 21000\n",
    "telor = 13000\n",
    "beras2_5 = 20000\n",
    "akuagalon = 13000\n",
    "belanjaankiki = (3*hepitos) + (2*silperkuin) + (2*telor) + (2*beras2_5) + akuagalon\n",
    "diskon = belanjaankiki * 0.05\n",
    "totalsetelahdiskon = belanjaankiki - diskon\n",
    "print(\"total belanjaan kiki =\",belanjaankiki)\n",
    "print(\"total diskonnya = \", diskon)\n",
    "print(\"setelah di dikskon = \",totalsetelahdiskon)"
   ]
  },
  {
   "cell_type": "code",
   "execution_count": 2,
   "id": "7565f7ca",
   "metadata": {},
   "outputs": [
    {
     "name": "stdout",
     "output_type": "stream",
     "text": [
      "930000\n"
     ]
    }
   ],
   "source": [
    "ganjil = 50000\n",
    "genap = 10000\n",
    "kelipatan = 5000\n",
    "jumlah_ganjil = 15 * ganjil\n",
    "jumlah_genap = 15 * genap\n",
    "jumlah_kelipatan = 6 * kelipatan\n",
    "jumlah_perbulan = jumlah_ganjil + jumlah_genap + jumlah_kelipatan\n",
    "print(jumlah_perbulan)\n"
   ]
  },
  {
   "cell_type": "code",
   "execution_count": 3,
   "id": "851f433a",
   "metadata": {},
   "outputs": [
    {
     "name": "stdout",
     "output_type": "stream",
     "text": [
      "Semua pecahan ada\n",
      "100 lembar 20 rbu = 2000000\n",
      "50 lembar 10 rbu =  500000\n",
      "400 lembar 5 rbu =  2000000\n",
      "250 lembar 2 rbu =  500000\n",
      "totalnya adalah 5000000\n",
      "==================================\n",
      "Hanya pecahan 20rb, 10rb dan 5rb\n",
      "100 lembar 20 rbu = 2000000\n",
      "50 lembar 10 rbu  = 500000\n",
      "500 lembar 5 rbu  = 2500000\n",
      "totalnya adalah 5000000\n",
      "==================================\n",
      "Hanya pecahan 20rb, 10rb dan 2rb\n",
      "100 lembar 20 rbu = 2000000\n",
      "50 lembar 10 rbu  = 500000\n",
      "1250 lembar 2 rbu = 2500000\n",
      "totalnya adalah 5000000\n"
     ]
    }
   ],
   "source": [
    "rp_20 = 20_000 * 100\n",
    "rp_10 = 10_000 * 50\n",
    "rp_5  = 5000 * 400\n",
    "rp_2  = 2000 * 250\n",
    "jumlah_3_a = rp_20 + rp_10 + rp_5 + rp_2\n",
    "\n",
    "print(\"Semua pecahan ada\")\n",
    "print(\"100 lembar 20 rbu =\",rp_20)\n",
    "print(\"50 lembar 10 rbu = \",rp_10)\n",
    "print(\"400 lembar 5 rbu = \",rp_5)\n",
    "print(\"250 lembar 2 rbu = \",rp_2)\n",
    "print(\"totalnya adalah\",jumlah_3_a)\n",
    "print('==================================')\n",
    "rp_5_2  = 5000 * 500\n",
    "jumlah_3_b = rp_20 + rp_10 + rp_5_2\n",
    "print(\"Hanya pecahan 20rb, 10rb dan 5rb\")\n",
    "print(\"100 lembar 20 rbu =\",rp_20)\n",
    "print(\"50 lembar 10 rbu  =\",rp_10)\n",
    "print(\"500 lembar 5 rbu  =\",rp_5_2)\n",
    "print(\"totalnya adalah\",jumlah_3_b)\n",
    "print('==================================')\n",
    "rp_2_2  = 2000 * 1250\n",
    "jumlah_3_c = rp_20 + rp_10 + rp_2_2\n",
    "print(\"Hanya pecahan 20rb, 10rb dan 2rb\")\n",
    "print(\"100 lembar 20 rbu =\",rp_20)\n",
    "print(\"50 lembar 10 rbu  =\",rp_10)\n",
    "print(\"1250 lembar 2 rbu =\",rp_2_2)\n",
    "print(\"totalnya adalah\",jumlah_3_c)\n"
   ]
  },
  {
   "cell_type": "code",
   "execution_count": 4,
   "id": "0d3a0894",
   "metadata": {},
   "outputs": [
    {
     "name": "stdout",
     "output_type": "stream",
     "text": [
      "hasil dari (10/23-6+4-(20//3%2) = -1.5652173913043477\n",
      "Hasil analisa\n",
      "=================================================================================\n",
      "1. terdapat operator bagi dan kurang = 10/23-6 = -5.565217391304348\n",
      "2. terdapat operator pembaian dibulatkan dan sisa bagi = 4 - (20 // 3 % 2) = 4\n",
      "hasil setelah ditambahkan adalah = -1.5652173913043477\n"
     ]
    }
   ],
   "source": [
    "hasil = (10/23-6+4-(20//3%2))\n",
    "print(\"hasil dari (10/23-6+4-(20//3%2) =\",hasil)\n",
    "print(\"Hasil analisa\")\n",
    "\n",
    "print('=================================================================================')\n",
    "\n",
    "operator_bagi_kurang = 10/23-6\n",
    "operator_bagi_sisabagi = 4 - (20 // 3 % 2)\n",
    "print(\"1. terdapat operator bagi dan kurang = 10/23-6 =\",operator_bagi_kurang)\n",
    "print(\"2. terdapat operator pembaian dibulatkan dan sisa bagi = 4 - (20 // 3 % 2) =\",operator_bagi_sisabagi)\n",
    "print(\"hasil setelah ditambahkan adalah =\",operator_bagi_kurang + operator_bagi_sisabagi)"
   ]
  },
  {
   "cell_type": "code",
   "execution_count": 5,
   "id": "704474dc",
   "metadata": {},
   "outputs": [
    {
     "name": "stdout",
     "output_type": "stream",
     "text": [
      "LIVIA ADITRIA\n"
     ]
    }
   ],
   "source": [
    "huruf = \"UFLOPYXTKJACSWRBGQZVDMEHIN\"\n",
    "\n",
    "print(huruf[2]+huruf[24]+huruf[19]+huruf[24]+huruf[10],huruf[10]+huruf[20]+huruf[24]+huruf[7]+huruf[14]+huruf[24]+huruf[10])"
   ]
  },
  {
   "cell_type": "code",
   "execution_count": null,
   "id": "45f54c97",
   "metadata": {},
   "outputs": [],
   "source": []
  }
 ],
 "metadata": {
  "kernelspec": {
   "display_name": "Python 3 (ipykernel)",
   "language": "python",
   "name": "python3"
  },
  "language_info": {
   "codemirror_mode": {
    "name": "ipython",
    "version": 3
   },
   "file_extension": ".py",
   "mimetype": "text/x-python",
   "name": "python",
   "nbconvert_exporter": "python",
   "pygments_lexer": "ipython3",
   "version": "3.9.12"
  }
 },
 "nbformat": 4,
 "nbformat_minor": 5
}
